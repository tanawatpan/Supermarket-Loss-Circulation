{
 "cells": [
  {
   "cell_type": "markdown",
   "metadata": {},
   "source": [
    "# K-Mean Clustering\n",
    "\n",
    "Based on the given dataset containing information about transactions, We can find an insight by using customer purchasing behavior using data mining technique called `K-Mean`. I would help buisness identify Customer Segmentation that share similar characteristics.\n",
    "\n",
    "Data\n",
    "* number of customers' transtions for each daytime interval (Morning, AfterNoon, Evening)\n",
    "* number of each customers visiting particular stores\n",
    "* number of each customers' purchasing"
   ]
  },
  {
   "cell_type": "markdown",
   "metadata": {},
   "source": [
    "## Import Libraries"
   ]
  },
  {
   "cell_type": "code",
   "execution_count": 1,
   "metadata": {},
   "outputs": [],
   "source": [
    "from pyspark.sql import SparkSession\n",
    "from pyspark.sql.functions import *\n",
    "from pyspark.sql.window import *\n",
    "from pyspark.sql.types import *\n",
    "from pyspark import SparkConf"
   ]
  },
  {
   "cell_type": "code",
   "execution_count": 2,
   "metadata": {},
   "outputs": [],
   "source": [
    "from pyspark.mllib.linalg.distributed import RowMatrix\n",
    "from pyspark.ml.feature import VectorAssembler, Normalizer\n",
    "from pyspark.ml.linalg import Vectors, VectorUDT\n",
    "\n",
    "from pyspark.ml.evaluation import ClusteringEvaluator\n",
    "from pyspark.ml.clustering import KMeans"
   ]
  },
  {
   "cell_type": "code",
   "execution_count": 3,
   "metadata": {},
   "outputs": [],
   "source": [
    "from itertools import chain\n",
    "\n",
    "# Udf func, convert Vector to Array(Double)\n",
    "ToArray  = udf(lambda row : row.toArray().tolist() ,  ArrayType( DoubleType() , containsNull=False ) )\n",
    "# Convert list to Vector\n",
    "ToVector = udf(lambda row : Vectors.dense( row ), VectorUDT() )"
   ]
  },
  {
   "cell_type": "code",
   "execution_count": 4,
   "metadata": {},
   "outputs": [],
   "source": [
    "import matplotlib.pyplot as plt"
   ]
  },
  {
   "cell_type": "code",
   "execution_count": 5,
   "metadata": {},
   "outputs": [],
   "source": [
    "# Function to assebly all feature into single array and nomalize it\n",
    "def assemblyAndNormalizeFeatures(dataFrame, inputCols):\n",
    "    assembler = VectorAssembler(\n",
    "        inputCols=inputCols,\n",
    "        outputCol=\"features\")\n",
    "    \n",
    "    data_ = assembler.transform(dataFrame)\n",
    "    \n",
    "    normalizer = Normalizer(inputCol=\"features\", outputCol=\"normFeatures\", p=2.0)\n",
    "    norm_data  = normalizer.transform(data_)\n",
    "    norm_data  = norm_data.withColumn(\"normFeatures\", ToArray( norm_data.normFeatures ) )\n",
    "    \n",
    "    return norm_data"
   ]
  },
  {
   "cell_type": "markdown",
   "metadata": {},
   "source": [
    "## Set Up SparkContext and SparkSession"
   ]
  },
  {
   "cell_type": "code",
   "execution_count": 6,
   "metadata": {},
   "outputs": [],
   "source": [
    "spark = SparkSession \\\n",
    "        .builder \\\n",
    "        .appName(\"SuperMarket Analytic Clustering\") \\\n",
    "        .enableHiveSupport() \\\n",
    "        .getOrCreate()\n",
    "\n",
    "sc = spark.sparkContext"
   ]
  },
  {
   "cell_type": "markdown",
   "metadata": {},
   "source": [
    "## Data Pre-processing "
   ]
  },
  {
   "cell_type": "code",
   "execution_count": 7,
   "metadata": {},
   "outputs": [
    {
     "name": "stdout",
     "output_type": "stream",
     "text": [
      "+---------+---------+---------------+--------------+----------+----------+--------+-----+---------+\n",
      "|SHOP_DATE|SHOP_HOUR|      BASKET_ID|     CUST_CODE|STORE_CODE| PROD_CODE|QUANTITY|SPEND|SHOP_TIME|\n",
      "+---------+---------+---------------+--------------+----------+----------+--------+-----+---------+\n",
      "| 20071006|       21|994107800268406|CUST0000153531|STORE00001|PRD0901391|       1| 0.37|  Evening|\n",
      "| 20070201|       15|994104300305853|CUST0000219191|STORE00002|PRD0901915|       1| 5.08|Afternoon|\n",
      "| 20071103|       13|994108200514137|CUST0000526979|STORE00003|PRD0903379|       1| 2.36|Afternoon|\n",
      "| 20070206|       18|994104400743650|CUST0000913709|STORE00004|PRD0903305|       1|  0.2|  Evening|\n",
      "| 20071015|       19|994108000780959|CUST0000961285|STORE00001|PRD0903387|       1| 1.65|  Evening|\n",
      "+---------+---------+---------------+--------------+----------+----------+--------+-----+---------+\n",
      "only showing top 5 rows\n",
      "\n"
     ]
    }
   ],
   "source": [
    "df = spark.sql(\"\"\"\n",
    "SELECT *\n",
    "FROM default.supermarket\n",
    "\"\"\").cache()\n",
    "\n",
    "df = df.withColumn(\"SHOP_TIME\", \n",
    "                    when( col(\"SHOP_HOUR\") >= 17  , \"Evening\")\n",
    "                   .when( col(\"SHOP_HOUR\") >= 12  , \"Afternoon\")\n",
    "                   .when( col(\"SHOP_HOUR\") >= 5   , \"Morning\")\n",
    "                   .otherwise(\"Unknown\") )\n",
    "\n",
    "df.show(5)"
   ]
  },
  {
   "cell_type": "markdown",
   "metadata": {},
   "source": [
    "## Customer shopping time data"
   ]
  },
  {
   "cell_type": "code",
   "execution_count": 8,
   "metadata": {},
   "outputs": [
    {
     "name": "stdout",
     "output_type": "stream",
     "text": [
      "+--------------+-------+---------+-------+\n",
      "|     CUST_CODE|Morning|Afternoon|Evening|\n",
      "+--------------+-------+---------+-------+\n",
      "|CUST0000406764|      0|        4|      0|\n",
      "|CUST0000406938|      0|        4|      2|\n",
      "|CUST0000015753|      0|        3|      1|\n",
      "|CUST0000780018|      0|        3|      0|\n",
      "|CUST0000070552|      3|        8|      3|\n",
      "+--------------+-------+---------+-------+\n",
      "only showing top 5 rows\n",
      "\n"
     ]
    }
   ],
   "source": [
    "Shop_Time_Cnt = df.select(\"CUST_CODE\", \"SHOP_TIME\", \"BASKET_ID\") \\\n",
    "                .groupBy(\"CUST_CODE\", \"SHOP_TIME\", \"BASKET_ID\") \\\n",
    "                .count() \\\n",
    "                .select(\"CUST_CODE\", \"SHOP_TIME\", \"count\") \\\n",
    "                .groupBy(\"CUST_CODE\") \\\n",
    "                .pivot(\"SHOP_TIME\") \\\n",
    "                .sum(\"count\") \\\n",
    "                .na.fill(0) \\\n",
    "                .cache()\n",
    "\n",
    "Shop_Time_Cnt.select('CUST_CODE', 'Morning', 'Afternoon', 'Evening').show(5)"
   ]
  },
  {
   "cell_type": "code",
   "execution_count": 9,
   "metadata": {},
   "outputs": [],
   "source": [
    "Shop_Time_Feature = assemblyAndNormalizeFeatures(Shop_Time_Cnt, ['Morning', 'Afternoon', 'Evening']) \\\n",
    "                    .select('CUST_CODE', 'normFeatures') \\\n",
    "                    .withColumnRenamed('normFeatures', 'Shop_Time_Features')"
   ]
  },
  {
   "cell_type": "code",
   "execution_count": 10,
   "metadata": {},
   "outputs": [
    {
     "name": "stdout",
     "output_type": "stream",
     "text": [
      "+--------------+--------------------+\n",
      "|     CUST_CODE|  Shop_Time_Features|\n",
      "+--------------+--------------------+\n",
      "|CUST0000406764|     [0.0, 1.0, 0.0]|\n",
      "|CUST0000406938|[0.0, 0.894427190...|\n",
      "|CUST0000015753|[0.0, 0.948683298...|\n",
      "|CUST0000780018|     [0.0, 1.0, 0.0]|\n",
      "|CUST0000070552|[0.33129457822453...|\n",
      "+--------------+--------------------+\n",
      "only showing top 5 rows\n",
      "\n"
     ]
    }
   ],
   "source": [
    "Shop_Time_Feature.show(5)"
   ]
  },
  {
   "cell_type": "code",
   "execution_count": 11,
   "metadata": {},
   "outputs": [
    {
     "name": "stdout",
     "output_type": "stream",
     "text": [
      "+--------------+----------+----------+----------+----------+\n",
      "|     CUST_CODE|STORE00001|STORE00002|STORE00003|STORE00004|\n",
      "+--------------+----------+----------+----------+----------+\n",
      "|CUST0000352224|         0|         0|        40|         0|\n",
      "|CUST0000704359|         0|         0|         9|         0|\n",
      "|CUST0000406764|         0|         0|         4|         0|\n",
      "|CUST0000982585|         0|        15|         0|         0|\n",
      "|CUST0000793437|         0|         0|         3|         0|\n",
      "+--------------+----------+----------+----------+----------+\n",
      "only showing top 5 rows\n",
      "\n"
     ]
    }
   ],
   "source": [
    "Store_Count = df.select(\"CUST_CODE\", \"STORE_CODE\", \"BASKET_ID\") \\\n",
    "                .groupBy(\"CUST_CODE\", \"STORE_CODE\", \"BASKET_ID\") \\\n",
    "                .count() \\\n",
    "                .select(\"CUST_CODE\", \"STORE_CODE\", \"count\") \\\n",
    "                .groupBy(\"CUST_CODE\") \\\n",
    "                .pivot(\"STORE_CODE\") \\\n",
    "                .sum(\"count\") \\\n",
    "                .na.fill(0) \\\n",
    "                .cache()\n",
    "\n",
    "Store_Count.select('CUST_CODE', 'STORE00001', 'STORE00002', 'STORE00003', 'STORE00004').show(5)"
   ]
  },
  {
   "cell_type": "code",
   "execution_count": 12,
   "metadata": {},
   "outputs": [],
   "source": [
    "Store_Feature = assemblyAndNormalizeFeatures(Store_Count, ['STORE00001', 'STORE00002', 'STORE00003', 'STORE00004']) \\\n",
    "                .select('CUST_CODE', 'normFeatures') \\\n",
    "                .withColumnRenamed('normFeatures', 'Store_Features')"
   ]
  },
  {
   "cell_type": "code",
   "execution_count": 13,
   "metadata": {},
   "outputs": [
    {
     "name": "stdout",
     "output_type": "stream",
     "text": [
      "+--------------+--------------------+\n",
      "|     CUST_CODE|      Store_Features|\n",
      "+--------------+--------------------+\n",
      "|CUST0000352224|[0.0, 0.0, 1.0, 0.0]|\n",
      "|CUST0000704359|[0.0, 0.0, 1.0, 0.0]|\n",
      "|CUST0000406764|[0.0, 0.0, 1.0, 0.0]|\n",
      "|CUST0000982585|[0.0, 1.0, 0.0, 0.0]|\n",
      "|CUST0000793437|[0.0, 0.0, 1.0, 0.0]|\n",
      "+--------------+--------------------+\n",
      "only showing top 5 rows\n",
      "\n"
     ]
    }
   ],
   "source": [
    "Store_Feature.show(5)"
   ]
  },
  {
   "cell_type": "code",
   "execution_count": 14,
   "metadata": {},
   "outputs": [],
   "source": [
    "Cust_Prod_Sum = spark.sql(\"\"\"\n",
    "SELECT *\n",
    "FROM default.pivot_cust_prod_sum\n",
    "\"\"\")"
   ]
  },
  {
   "cell_type": "code",
   "execution_count": 15,
   "metadata": {},
   "outputs": [],
   "source": [
    "ignore = ['CUST_CODE']\n",
    "featuresList = [x for x in Cust_Prod_Sum.columns if x not in ignore]\n",
    "\n",
    "Prod_Feature = assemblyAndNormalizeFeatures(Cust_Prod_Sum, featuresList) \\\n",
    "                .select('CUST_CODE', 'normFeatures') \\\n",
    "                .withColumnRenamed('normFeatures', 'Prod_Features')"
   ]
  },
  {
   "cell_type": "code",
   "execution_count": 16,
   "metadata": {},
   "outputs": [
    {
     "name": "stdout",
     "output_type": "stream",
     "text": [
      "+--------------+--------------------+\n",
      "|     CUST_CODE|       Prod_Features|\n",
      "+--------------+--------------------+\n",
      "|CUST0000336458|[0.0, 0.0, 0.0, 0...|\n",
      "|CUST0000063499|[0.0, 0.0, 0.0, 0...|\n",
      "|CUST0000032037|[0.0, 0.0, 0.0, 0...|\n",
      "|CUST0000895912|[0.0, 0.0, 0.0, 0...|\n",
      "|CUST0000344205|[0.0, 0.0, 0.0, 0...|\n",
      "+--------------+--------------------+\n",
      "only showing top 5 rows\n",
      "\n"
     ]
    }
   ],
   "source": [
    "Prod_Feature.show(5)"
   ]
  },
  {
   "cell_type": "code",
   "execution_count": 17,
   "metadata": {},
   "outputs": [],
   "source": [
    "data1 = Shop_Time_Feature.alias('d1')\n",
    "data2 = Store_Feature.alias('d2')\n",
    "data3 = Prod_Feature.alias('d3')\n",
    "\n",
    "data = data1.join(data2, data2.CUST_CODE == data1.CUST_CODE) \\\n",
    "            .select( col(\"d1.CUST_CODE\"), col(\"d1.Shop_Time_Features\"), col(\"d2.Store_Features\") ) \\\n",
    "            .join(data3, data3.CUST_CODE == data1.CUST_CODE) \\\n",
    "            .select( col(\"d1.CUST_CODE\"), col(\"d1.Shop_Time_Features\"), col(\"d2.Store_Features\"), col(\"d3.Prod_Features\") ) \\\n",
    "            .cache()"
   ]
  },
  {
   "cell_type": "code",
   "execution_count": 18,
   "metadata": {},
   "outputs": [
    {
     "name": "stdout",
     "output_type": "stream",
     "text": [
      "+--------------+--------------------+--------------------+--------------------+\n",
      "|     CUST_CODE|  Shop_Time_Features|      Store_Features|       Prod_Features|\n",
      "+--------------+--------------------+--------------------+--------------------+\n",
      "|CUST0000352224|[0.0, 0.670913323...|[0.0, 0.0, 1.0, 0.0]|[0.0, 0.0, 0.0, 0...|\n",
      "|CUST0000704359|[0.0, 0.961523947...|[0.0, 0.0, 1.0, 0.0]|[0.0, 0.0, 0.0, 0...|\n",
      "|CUST0000406764|     [0.0, 1.0, 0.0]|[0.0, 0.0, 1.0, 0.0]|[0.0, 0.0, 0.0, 0...|\n",
      "|CUST0000982585|[0.0, 0.894427190...|[0.0, 1.0, 0.0, 0.0]|[0.0, 0.0, 0.0, 0...|\n",
      "|CUST0000793437|     [0.0, 1.0, 0.0]|[0.0, 0.0, 1.0, 0.0]|[0.0, 0.0, 0.0, 0...|\n",
      "+--------------+--------------------+--------------------+--------------------+\n",
      "only showing top 5 rows\n",
      "\n"
     ]
    }
   ],
   "source": [
    "data.show(5)"
   ]
  },
  {
   "cell_type": "code",
   "execution_count": 19,
   "metadata": {},
   "outputs": [],
   "source": [
    "assembler = VectorAssembler(\n",
    "    inputCols=['Shop_Time_Features', 'Store_Features', 'Prod_Features'],\n",
    "    outputCol=\"features\")\n",
    "\n",
    "all_features = data.withColumn(\"Shop_Time_Features\", ToVector(\"Shop_Time_Features\")) \\\n",
    "                   .withColumn(\"Store_Features\"    , ToVector(\"Store_Features\")) \\\n",
    "                   .withColumn(\"Prod_Features\"     , ToVector(\"Prod_Features\"))\n",
    "\n",
    "all_features = assembler.transform(all_features) \\\n",
    "                        .withColumn(\"features\", ToArray(\"features\")) \\\n",
    "                        .select(\"CUST_CODE\", \"features\") \\\n",
    "                        .cache()"
   ]
  },
  {
   "cell_type": "code",
   "execution_count": 26,
   "metadata": {},
   "outputs": [
    {
     "name": "stdout",
     "output_type": "stream",
     "text": [
      "9267.32738508847\n",
      "7850.55786194073\n",
      "7558.443361614961\n",
      "6680.066545970851\n",
      "6317.17710130342\n",
      "6141.141511215641\n",
      "5887.746931962584\n",
      "5836.571909081572\n",
      "5600.241509578733\n",
      "5575.4116730067435\n",
      "5381.824322898742\n",
      "5326.500413357726\n",
      "5122.524279802747\n",
      "5128.393503767463\n",
      "5068.964883103307\n",
      "5099.989753565226\n",
      "5140.682575805671\n",
      "5074.540747389407\n"
     ]
    }
   ],
   "source": [
    "import numpy as np\n",
    "\n",
    "cost = np.zeros(20)\n",
    "for k in range(2,20):\n",
    "    kmeans = KMeans().setK(k).setSeed(1).setFeaturesCol(\"features\")\n",
    "    model = kmeans.fit(all_features.sample(False,0.33, seed=9999))\n",
    "    cost[k] = model.computeCost(all_features) \n",
    "    print(cost[k])"
   ]
  },
  {
   "cell_type": "code",
   "execution_count": 27,
   "metadata": {},
   "outputs": [
    {
     "data": {
      "text/plain": [
       "Text(0, 0.5, 'cost')"
      ]
     },
     "execution_count": 27,
     "metadata": {},
     "output_type": "execute_result"
    },
    {
     "data": {
      "image/png": "[encoded data removed]",
      "text/plain": [
       "<Figure size 576x432 with 1 Axes>"
      ]
     },
     "metadata": {
      "needs_background": "light"
     },
     "output_type": "display_data"
    }
   ],
   "source": [
    "fig, ax = plt.subplots(1,1, figsize =(8,6))\n",
    "ax.xaxis.set_ticks(np.arange(2, 20, 1))\n",
    "ax.plot(range(2,20),cost[2:20])\n",
    "ax.set_xlabel('k')\n",
    "ax.set_ylabel('cost')"
   ]
  },
  {
   "cell_type": "code",
   "execution_count": 28,
   "metadata": {},
   "outputs": [],
   "source": [
    "# Best K = 11, K-Mean Clustering\n",
    "\n",
    "k = 11\n",
    "kmeans = KMeans().setK(k).setSeed(1).setFeaturesCol(\"features\")\n",
    "model = kmeans.fit( all_features )\n",
    "centers = model.clusterCenters()"
   ]
  },
  {
   "cell_type": "code",
   "execution_count": 29,
   "metadata": {},
   "outputs": [],
   "source": [
    "transformed = model.transform(all_features).select('CUST_CODE', 'prediction')\n",
    "rows = transformed.collect()\n",
    "result = spark.createDataFrame(rows)"
   ]
  },
  {
   "cell_type": "code",
   "execution_count": 30,
   "metadata": {},
   "outputs": [
    {
     "name": "stdout",
     "output_type": "stream",
     "text": [
      "+--------------+----------+\n",
      "|     CUST_CODE|prediction|\n",
      "+--------------+----------+\n",
      "|CUST0000352224|         7|\n",
      "|CUST0000704359|         6|\n",
      "|CUST0000406764|         6|\n",
      "|CUST0000982585|         3|\n",
      "|CUST0000793437|         6|\n",
      "|CUST0000175152|         2|\n",
      "|CUST0000780018|         3|\n",
      "|CUST0000076764|         0|\n",
      "|CUST0000940284|         7|\n",
      "|CUST0000070552|         3|\n",
      "+--------------+----------+\n",
      "only showing top 10 rows\n",
      "\n"
     ]
    }
   ],
   "source": [
    "result.show(10)"
   ]
  },
  {
   "cell_type": "code",
   "execution_count": 31,
   "metadata": {},
   "outputs": [
    {
     "name": "stdout",
     "output_type": "stream",
     "text": [
      "+----------+-----+\n",
      "|prediction|count|\n",
      "+----------+-----+\n",
      "|         0|  393|\n",
      "|         1|    1|\n",
      "|         2|  840|\n",
      "|         3|  784|\n",
      "|         4|  232|\n",
      "|         5|  762|\n",
      "|         6|  603|\n",
      "|         7|  519|\n",
      "|         8|  123|\n",
      "|         9|  409|\n",
      "|        10|  225|\n",
      "+----------+-----+\n",
      "\n"
     ]
    }
   ],
   "source": [
    "result.select(\"CUST_CODE\", \"prediction\").groupBy(\"prediction\").count().orderBy(\"prediction\").show()"
   ]
  }
 ],
 "metadata": {
  "kernelspec": {
   "display_name": "Python 3",
   "language": "python",
   "name": "python3"
  },
  "language_info": {
   "codemirror_mode": {
    "name": "ipython",
    "version": 3
   },
   "file_extension": ".py",
   "mimetype": "text/x-python",
   "name": "python",
   "nbconvert_exporter": "python",
   "pygments_lexer": "ipython3",
   "version": "3.7.4"
  }
 },
 "nbformat": 4,
 "nbformat_minor": 2
}
{
 "cells": [
  {
   "cell_type": "markdown",
   "metadata": {},
   "source": [
    "# Supermarket\n",
    "\n",
    "## Introduction/Buinsess Problems\n",
    "\n",
    "<p>Supermarket's customers have their own preferable choices of products. it would be better if we can know more about our customers and products.</p>\n",
    "\n",
    "<p>we can use collected retail data to extract insight for imporiving business and enhancing customer experiences.</p>"
   ]
  },
  {
   "cell_type": "markdown",
   "metadata": {},
   "source": [
    "## Data\n",
    "\n",
    "| Column        | Description   |\n",
    "| ------------- |:-------------:|\n",
    "| SHOP_DATE      | Date when shopping has been made. Date is specified in the yyyymmdd format |\n",
    "| SHOP_HOUR      | Hour slot of the shopping 0=00:00 …23=23:00 -00:59, 1=01:00 -23:59 -01:59,      |\n",
    "| BASKET_ID | Basket ID. All items in a basket share the same basket_id value.    | \n",
    "| CUST_CODE | Customer Code     | \n",
    "| STORE_CODE | Store Code    | \n",
    "| PROD_CODE | Product Code      | \n",
    "| QUANTITY | Number of items of the same product bought in this basket      | \n",
    "| SPEND | Spend associated to the items bought       | "
   ]
  },
  {
   "cell_type": "markdown",
   "metadata": {},
   "source": [
    "## ReadMe\n",
    "\n",
    "| File Name     | Description   |\n",
    "| ------------- |:-------------:|\n",
    "| 01_ETL.ipynb  | Load Supermarket data into hdfs for later usage |\n",
    "| 02_Data_Exploration.ipynb  | Exploring and Visualizing data for a breif understading  |\n",
    "| 03_Preprocessing.ipynb  | Prepareing customer x product matrix and store in hdfs for later usage | \n",
    "| 04_Analytic_Product_Similarity.ipynb  | Computing Product Similarity using Cosine Similarity | \n",
    "| 05_Analytic_Customer_Clustering.ipynb  | Computing K-mean clustering for customer segmentation  | "
   ]
  }
 ],
 "metadata": {
  "kernelspec": {
   "display_name": "Python 3",
   "language": "python",
   "name": "python3"
  },
  "language_info": {
   "codemirror_mode": {
    "name": "ipython",
    "version": 3
   },
   "file_extension": ".py",
   "mimetype": "text/x-python",
   "name": "python",
   "nbconvert_exporter": "python",
   "pygments_lexer": "ipython3",
   "version": "3.7.4"
  }
 },
 "nbformat": 4,
 "nbformat_minor": 2
}
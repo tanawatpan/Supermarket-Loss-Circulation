{
 "cells": [
  {
   "cell_type": "markdown",
   "metadata": {},
   "source": [
    "# Explore the data set"
   ]
  },
  {
   "cell_type": "code",
   "execution_count": 1,
   "metadata": {},
   "outputs": [],
   "source": [
    "from pyspark.sql import SparkSession\n",
    "from pyspark.sql.functions import *\n",
    "from pyspark.sql.window import *\n",
    "from pyspark.sql.types import *\n",
    "from pyspark import SparkConf\n",
    "\n",
    "import pyspark.sql.functions as F"
   ]
  },
  {
   "cell_type": "code",
   "execution_count": 2,
   "metadata": {},
   "outputs": [],
   "source": [
    "import pandas as pd"
   ]
  },
  {
   "cell_type": "code",
   "execution_count": 3,
   "metadata": {},
   "outputs": [
    {
     "name": "stderr",
     "output_type": "stream",
     "text": [
      "/opt/conda/anaconda/lib/python3.7/site-packages/statsmodels/tools/_testing.py:19: FutureWarning: pandas.util.testing is deprecated. Use the functions in the public API at pandas.testing instead.\n",
      "  import pandas.util.testing as tm\n"
     ]
    }
   ],
   "source": [
    "import matplotlib.pyplot as plt\n",
    "import seaborn as sns"
   ]
  },
  {
   "cell_type": "code",
   "execution_count": 4,
   "metadata": {},
   "outputs": [],
   "source": [
    "spark = SparkSession \\\n",
    "        .builder \\\n",
    "        .appName(\"SuperMarket Data Exploration\") \\\n",
    "        .enableHiveSupport() \\\n",
    "        .getOrCreate()\n",
    "\n",
    "sc = spark.sparkContext"
   ]
  },
  {
   "cell_type": "code",
   "execution_count": 5,
   "metadata": {},
   "outputs": [
    {
     "name": "stdout",
     "output_type": "stream",
     "text": [
      "+---------+---------+---------------+--------------+----------+----------+--------+-----+\n",
      "|SHOP_DATE|SHOP_HOUR|      BASKET_ID|     CUST_CODE|STORE_CODE| PROD_CODE|QUANTITY|SPEND|\n",
      "+---------+---------+---------------+--------------+----------+----------+--------+-----+\n",
      "| 20071006|       21|994107800268406|CUST0000153531|STORE00001|PRD0901391|       1| 0.37|\n",
      "| 20070201|       15|994104300305853|CUST0000219191|STORE00002|PRD0901915|       1| 5.08|\n",
      "| 20071103|       13|994108200514137|CUST0000526979|STORE00003|PRD0903379|       1| 2.36|\n",
      "| 20070206|       18|994104400743650|CUST0000913709|STORE00004|PRD0903305|       1|  0.2|\n",
      "| 20071015|       19|994108000780959|CUST0000961285|STORE00001|PRD0903387|       1| 1.65|\n",
      "+---------+---------+---------------+--------------+----------+----------+--------+-----+\n",
      "only showing top 5 rows\n",
      "\n"
     ]
    }
   ],
   "source": [
    "df = spark.sql(\"\"\"\n",
    "SELECT *\n",
    "FROM default.supermarket\n",
    "\"\"\").cache()\n",
    "\n",
    "df.show(5)"
   ]
  },
  {
   "cell_type": "markdown",
   "metadata": {},
   "source": [
    "### Number of quanity for each basket"
   ]
  },
  {
   "cell_type": "code",
   "execution_count": 6,
   "metadata": {},
   "outputs": [
    {
     "data": {
      "text/plain": [
       "<matplotlib.axes._subplots.AxesSubplot at 0x7f35d8be80d0>"
      ]
     },
     "execution_count": 6,
     "metadata": {},
     "output_type": "execute_result"
    },
    {
     "data": {
      "image/png": "[encoded data removed]",
      "text/plain": [
       "<Figure size 432x288 with 1 Axes>"
      ]
     },
     "metadata": {
      "needs_background": "light"
     },
     "output_type": "display_data"
    }
   ],
   "source": [
    "Basket_Quatity = df.select('BASKET_ID', 'QUANTITY') \\\n",
    "                        .groupBy('BASKET_ID') \\\n",
    "                        .sum('QUANTITY')\n",
    "\n",
    "sns.distplot( Basket_Quatity.toPandas()['sum(QUANTITY)'] )"
   ]
  },
  {
   "cell_type": "markdown",
   "metadata": {},
   "source": [
    "### Number of transtions for each time"
   ]
  },
  {
   "cell_type": "code",
   "execution_count": 7,
   "metadata": {},
   "outputs": [
    {
     "data": {
      "text/plain": [
       "<matplotlib.axes._subplots.AxesSubplot at 0x7f35d47fc310>"
      ]
     },
     "execution_count": 7,
     "metadata": {},
     "output_type": "execute_result"
    },
    {
     "data": {
      "image/png": "[encoded data removed]",
      "text/plain": [
       "<Figure size 432x288 with 1 Axes>"
      ]
     },
     "metadata": {
      "needs_background": "light"
     },
     "output_type": "display_data"
    }
   ],
   "source": [
    "ShopHourCount = df.select(\"SHOP_HOUR\", \"BASKET_ID\") \\\n",
    "                .distinct() \\\n",
    "                .groupBy(\"SHOP_HOUR\") \\\n",
    "                .count() \\\n",
    "                .orderBy(\"SHOP_HOUR\")\n",
    "\n",
    "sns.barplot(\"SHOP_HOUR\", y=\"count\", data=ShopHourCount.toPandas(), palette=\"Blues_d\")"
   ]
  },
  {
   "cell_type": "code",
   "execution_count": 8,
   "metadata": {},
   "outputs": [
    {
     "data": {
      "text/plain": [
       "<matplotlib.axes._subplots.AxesSubplot at 0x7f35f126e550>"
      ]
     },
     "execution_count": 8,
     "metadata": {},
     "output_type": "execute_result"
    },
    {
     "data": {
      "image/png": "[encoded data removed]",
      "text/plain": [
       "<Figure size 432x288 with 1 Axes>"
      ]
     },
     "metadata": {
      "needs_background": "light"
     },
     "output_type": "display_data"
    }
   ],
   "source": [
    "df = df.withColumn(\"SHOP_TIME\", \n",
    "                    when( col(\"SHOP_HOUR\") >= 17  , \"Evening\")\n",
    "                   .when( col(\"SHOP_HOUR\") >= 12  , \"Afternoon\")\n",
    "                   .when( col(\"SHOP_HOUR\") >= 5   , \"Morning\")\n",
    "                   .otherwise(\"Unknown\") )\n",
    "\n",
    "ShopTimeCount = df.select(\"SHOP_TIME\", \"BASKET_ID\") \\\n",
    "                .distinct() \\\n",
    "                .groupBy(\"SHOP_TIME\") \\\n",
    "                .count() \\\n",
    "                .orderBy(\"count\")\n",
    "\n",
    "sns.barplot(x=\"SHOP_TIME\", y=\"count\", data=ShopTimeCount.toPandas(), palette=\"pastel\")"
   ]
  },
  {
   "cell_type": "markdown",
   "metadata": {},
   "source": [
    "### Top most purchased items"
   ]
  },
  {
   "cell_type": "code",
   "execution_count": 9,
   "metadata": {},
   "outputs": [
    {
     "name": "stdout",
     "output_type": "stream",
     "text": [
      "+----------+-------------+----+\n",
      "| PROD_CODE|sum(QUANTITY)|rank|\n",
      "+----------+-------------+----+\n",
      "|PRD0903678|        92694|   1|\n",
      "|PRD0904358|        15738|   2|\n",
      "|PRD0903052|        15587|   3|\n",
      "|PRD0900121|        12861|   4|\n",
      "|PRD0903269|         7234|   5|\n",
      "|PRD0901265|         6225|   6|\n",
      "|PRD0904044|         5728|   7|\n",
      "|PRD0903130|         5667|   8|\n",
      "|PRD0900830|         4902|   9|\n",
      "|PRD0903078|         4825|  10|\n",
      "+----------+-------------+----+\n",
      "only showing top 10 rows\n",
      "\n"
     ]
    }
   ],
   "source": [
    "Prod_Count = df.select('PROD_CODE', 'QUANTITY') \\\n",
    "            .groupBy('PROD_CODE') \\\n",
    "            .sum() \\\n",
    "            .withColumn(\"rank\", row_number().over(Window.orderBy( col(\"sum(QUANTITY)\").desc() ) ) )\n",
    "\n",
    "Prod_Count.show(10)"
   ]
  },
  {
   "cell_type": "code",
   "execution_count": 10,
   "metadata": {},
   "outputs": [
    {
     "data": {
      "image/png": "[encoded data removed]",
      "text/plain": [
       "<Figure size 432x288 with 1 Axes>"
      ]
     },
     "metadata": {},
     "output_type": "display_data"
    }
   ],
   "source": [
    "TOP_Prod_Count = Prod_Count.where( col(\"rank\") <= 5 ).toPandas()\n",
    "\n",
    "plt.pie(\n",
    "    TOP_Prod_Count['sum(QUANTITY)'], \n",
    "    labels = TOP_Prod_Count['PROD_CODE'], \n",
    "    startangle = 30,\n",
    "    shadow = True, \n",
    "    explode = (0.1, 0, 0, 0, 0)\n",
    ")\n",
    "\n",
    "plt.title('Product')\n",
    "plt.show()"
   ]
  },
  {
   "cell_type": "markdown",
   "metadata": {},
   "source": [
    "### Top most purchased items for each stores"
   ]
  },
  {
   "cell_type": "code",
   "execution_count": 11,
   "metadata": {},
   "outputs": [
    {
     "data": {
      "text/plain": [
       "<seaborn.axisgrid.FacetGrid at 0x7f35f13e2990>"
      ]
     },
     "execution_count": 11,
     "metadata": {},
     "output_type": "execute_result"
    },
    {
     "data": {
      "image/png": "[encoded data removed]",
      "text/plain": [
       "<Figure size 460.875x360 with 1 Axes>"
      ]
     },
     "metadata": {
      "needs_background": "light"
     },
     "output_type": "display_data"
    }
   ],
   "source": [
    "Store_Prod_Count = df.select('STORE_CODE', 'PROD_CODE', 'QUANTITY') \\\n",
    "                    .groupBy('STORE_CODE', 'PROD_CODE') \\\n",
    "                    .sum() \\\n",
    "                    .withColumn(\"rank\", row_number().over(Window.partitionBy(\"STORE_CODE\").orderBy( col(\"sum(QUANTITY)\").desc() ) ) ) \\\n",
    "                    .where( col(\"rank\") <= 5 ) \\\n",
    "                    .orderBy(\"STORE_CODE\", \"rank\")\n",
    "\n",
    "sns.catplot(x=\"sum(QUANTITY)\", y=\"STORE_CODE\", hue=\"PROD_CODE\", kind=\"bar\",\n",
    "            palette=\"pastel\", edgecolor=\".6\",\n",
    "            data=Store_Prod_Count.toPandas() )"
   ]
  },
  {
   "cell_type": "code",
   "execution_count": 12,
   "metadata": {},
   "outputs": [
    {
     "name": "stdout",
     "output_type": "stream",
     "text": [
      "+---------+-----+\n",
      "|SHOP_DATE|count|\n",
      "+---------+-----+\n",
      "| 20070101|  133|\n",
      "| 20070102|  155|\n",
      "| 20070103|  144|\n",
      "| 20070104|  150|\n",
      "| 20070105|  148|\n",
      "| 20070106|  158|\n",
      "| 20070107|  143|\n",
      "| 20070108|  175|\n",
      "| 20070109|  132|\n",
      "| 20070110|  179|\n",
      "| 20070111|  157|\n",
      "| 20070112|  177|\n",
      "| 20070113|  189|\n",
      "| 20070114|  159|\n",
      "| 20070115|  165|\n",
      "| 20070116|  163|\n",
      "| 20070117|  181|\n",
      "| 20070118|  152|\n",
      "| 20070119|  164|\n",
      "| 20070120|  152|\n",
      "+---------+-----+\n",
      "only showing top 20 rows\n",
      "\n"
     ]
    }
   ],
   "source": [
    "Num_Of_Bucket_Per_Day = df.select('SHOP_DATE', 'BASKET_ID') \\\n",
    "                        .distinct() \\\n",
    "                        .groupBy('SHOP_DATE') \\\n",
    "                        .count() \\\n",
    "                        .orderBy('SHOP_DATE')\n",
    "Num_Of_Bucket_Per_Day.show()"
   ]
  }
 ],
 "metadata": {
  "kernelspec": {
   "display_name": "Python 3",
   "language": "python",
   "name": "python3"
  },
  "language_info": {
   "codemirror_mode": {
    "name": "ipython",
    "version": 3
   },
   "file_extension": ".py",
   "mimetype": "text/x-python",
   "name": "python",
   "nbconvert_exporter": "python",
   "pygments_lexer": "ipython3",
   "version": "3.7.4"
  }
 },
 "nbformat": 4,
 "nbformat_minor": 2
}
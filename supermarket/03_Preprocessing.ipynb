{
 "cells": [
  {
   "cell_type": "code",
   "execution_count": 1,
   "metadata": {},
   "outputs": [],
   "source": [
    "from pyspark.sql import SparkSession\n",
    "from pyspark.sql.functions import *\n",
    "from pyspark.sql.window import *\n",
    "from pyspark.sql.types import *\n",
    "from pyspark import SparkConf"
   ]
  },
  {
   "cell_type": "code",
   "execution_count": 2,
   "metadata": {},
   "outputs": [],
   "source": [
    "import pandas as pd\n",
    "import glob\n",
    "import os"
   ]
  },
  {
   "cell_type": "code",
   "execution_count": 3,
   "metadata": {},
   "outputs": [],
   "source": [
    "spark = SparkSession \\\n",
    "        .builder \\\n",
    "        .appName(\"SuperMarket Pre-processing\") \\\n",
    "        .enableHiveSupport() \\\n",
    "        .getOrCreate()\n",
    "\n",
    "sc = spark.sparkContext"
   ]
  },
  {
   "cell_type": "code",
   "execution_count": 4,
   "metadata": {},
   "outputs": [
    {
     "name": "stdout",
     "output_type": "stream",
     "text": [
      "+---------+---------+---------------+--------------+----------+----------+--------+-----+\n",
      "|SHOP_DATE|SHOP_HOUR|      BASKET_ID|     CUST_CODE|STORE_CODE| PROD_CODE|QUANTITY|SPEND|\n",
      "+---------+---------+---------------+--------------+----------+----------+--------+-----+\n",
      "| 20071006|       21|994107800268406|CUST0000153531|STORE00001|PRD0901391|       1| 0.37|\n",
      "| 20070201|       15|994104300305853|CUST0000219191|STORE00002|PRD0901915|       1| 5.08|\n",
      "| 20071103|       13|994108200514137|CUST0000526979|STORE00003|PRD0903379|       1| 2.36|\n",
      "| 20070206|       18|994104400743650|CUST0000913709|STORE00004|PRD0903305|       1|  0.2|\n",
      "| 20071015|       19|994108000780959|CUST0000961285|STORE00001|PRD0903387|       1| 1.65|\n",
      "+---------+---------+---------------+--------------+----------+----------+--------+-----+\n",
      "only showing top 5 rows\n",
      "\n"
     ]
    }
   ],
   "source": [
    "df = spark.sql(\"\"\"\n",
    "SELECT *\n",
    "FROM default.supermarket\n",
    "\"\"\").cache()\n",
    "\n",
    "df.show(5)"
   ]
  },
  {
   "cell_type": "code",
   "execution_count": 5,
   "metadata": {},
   "outputs": [
    {
     "name": "stdout",
     "output_type": "stream",
     "text": [
      "+--------------+----------+-------------+\n",
      "|     CUST_CODE| PROD_CODE|sum(QUANTITY)|\n",
      "+--------------+----------+-------------+\n",
      "|CUST0000402925|PRD0902707|            1|\n",
      "|CUST0000590958|PRD0903596|           22|\n",
      "|CUST0000543607|PRD0904399|            2|\n",
      "|CUST0000140715|PRD0901150|            1|\n",
      "|CUST0000953469|PRD0900351|            1|\n",
      "+--------------+----------+-------------+\n",
      "only showing top 5 rows\n",
      "\n"
     ]
    }
   ],
   "source": [
    "Cust_Prod_Sum = df.select(\"CUST_CODE\", \"PROD_CODE\", \"QUANTITY\") \\\n",
    "                    .groupBy(\"CUST_CODE\", \"PROD_CODE\") \\\n",
    "                    .sum()\n",
    "\n",
    "Cust_Prod_Sum.show(5)"
   ]
  },
  {
   "cell_type": "code",
   "execution_count": null,
   "metadata": {},
   "outputs": [
    {
     "data": {
      "text/plain": [
       "DataFrame[]"
      ]
     },
     "execution_count": 6,
     "metadata": {},
     "output_type": "execute_result"
    }
   ],
   "source": [
    "# Pivot Customer Product Sum\n",
    "Pivot_Cust_Prod_Sum = Cust_Prod_Sum.groupBy(\"CUST_CODE\") \\\n",
    "                                .pivot(\"PROD_CODE\") \\\n",
    "                                .sum(\"sum(QUANTITY)\") \\\n",
    "                                .na.fill(0)\n",
    "\n",
    "# Create View\n",
    "Pivot_Cust_Prod_Sum.createOrReplaceTempView('Pivot_Cust_Prod_Sum')\n",
    "\n",
    "# Create Table from View\n",
    "spark.sql(\"\"\"\n",
    "CREATE TABLE default.pivot_cust_prod_sum STORED AS PARQUET AS\n",
    "SELECT *\n",
    "FROM Pivot_Cust_Prod_Sum\n",
    "\"\"\")"
   ]
  },
  {
   "cell_type": "code",
   "execution_count": 9,
   "metadata": {},
   "outputs": [],
   "source": [
    "spark.sql(\"\"\"\n",
    "SELECT *\n",
    "FROM Pivot_Cust_Prod_Sum\n",
    "\"\"\").write.format(\"csv\") \\\n",
    "    .option(\"header\", \"true\") \\\n",
    "    .save(\"/tmp/Pivot_Customer_Product\")"
   ]
  },
  {
   "cell_type": "code",
   "execution_count": 10,
   "metadata": {},
   "outputs": [],
   "source": [
    "!hdfs dfs -copyToLocal /tmp/Pivot_Customer_Product /data/"
   ]
  },
  {
   "cell_type": "code",
   "execution_count": 11,
   "metadata": {},
   "outputs": [],
   "source": [
    "os.chdir(\"/data/Pivot_Customer_Product\")\n",
    "\n",
    "extension = 'csv'\n",
    "all_filenames = [i for i in glob.glob('*.{}'.format(extension))]\n",
    "\n",
    "# merge all files\n",
    "merged_csv = pd.concat([pd.read_csv(f) for f in all_filenames ])\n",
    "# Save file to csv\n",
    "merged_csv.to_csv( \"Pivot_Customer_Product.csv\", index=False, encoding='utf-8')"
   ]
  },
  {
   "cell_type": "code",
   "execution_count": 12,
   "metadata": {},
   "outputs": [
    {
     "data": {
      "text/html": [
       "<div>\n",
       "<style scoped>\n",
       "    .dataframe tbody tr th:only-of-type {\n",
       "        vertical-align: middle;\n",
       "    }\n",
       "\n",
       "    .dataframe tbody tr th {\n",
       "        vertical-align: top;\n",
       "    }\n",
       "\n",
       "    .dataframe thead th {\n",
       "        text-align: right;\n",
       "    }\n",
       "</style>\n",
       "<table border=\"1\" class=\"dataframe\">\n",
       "  <thead>\n",
       "    <tr style=\"text-align: right;\">\n",
       "      <th></th>\n",
       "      <th>CUST_CODE</th>\n",
       "      <th>PRD0900001</th>\n",
       "      <th>PRD0900002</th>\n",
       "      <th>PRD0900003</th>\n",
       "      <th>PRD0900004</th>\n",
       "      <th>PRD0900005</th>\n",
       "      <th>PRD0900006</th>\n",
       "      <th>PRD0900007</th>\n",
       "      <th>PRD0900008</th>\n",
       "      <th>PRD0900009</th>\n",
       "      <th>...</th>\n",
       "      <th>PRD0904988</th>\n",
       "      <th>PRD0904989</th>\n",
       "      <th>PRD0904990</th>\n",
       "      <th>PRD0904991</th>\n",
       "      <th>PRD0904992</th>\n",
       "      <th>PRD0904993</th>\n",
       "      <th>PRD0904994</th>\n",
       "      <th>PRD0904995</th>\n",
       "      <th>PRD0904996</th>\n",
       "      <th>PRD0904997</th>\n",
       "    </tr>\n",
       "  </thead>\n",
       "  <tbody>\n",
       "    <tr>\n",
       "      <th>0</th>\n",
       "      <td>CUST0000515317</td>\n",
       "      <td>0</td>\n",
       "      <td>0</td>\n",
       "      <td>0</td>\n",
       "      <td>0</td>\n",
       "      <td>0</td>\n",
       "      <td>0</td>\n",
       "      <td>0</td>\n",
       "      <td>0</td>\n",
       "      <td>0</td>\n",
       "      <td>...</td>\n",
       "      <td>0</td>\n",
       "      <td>0</td>\n",
       "      <td>0</td>\n",
       "      <td>0</td>\n",
       "      <td>0</td>\n",
       "      <td>0</td>\n",
       "      <td>0</td>\n",
       "      <td>0</td>\n",
       "      <td>0</td>\n",
       "      <td>0</td>\n",
       "    </tr>\n",
       "    <tr>\n",
       "      <th>1</th>\n",
       "      <td>CUST0000370270</td>\n",
       "      <td>0</td>\n",
       "      <td>0</td>\n",
       "      <td>0</td>\n",
       "      <td>0</td>\n",
       "      <td>0</td>\n",
       "      <td>0</td>\n",
       "      <td>0</td>\n",
       "      <td>20</td>\n",
       "      <td>0</td>\n",
       "      <td>...</td>\n",
       "      <td>0</td>\n",
       "      <td>0</td>\n",
       "      <td>0</td>\n",
       "      <td>0</td>\n",
       "      <td>0</td>\n",
       "      <td>0</td>\n",
       "      <td>0</td>\n",
       "      <td>0</td>\n",
       "      <td>0</td>\n",
       "      <td>0</td>\n",
       "    </tr>\n",
       "    <tr>\n",
       "      <th>2</th>\n",
       "      <td>CUST0000409759</td>\n",
       "      <td>0</td>\n",
       "      <td>0</td>\n",
       "      <td>0</td>\n",
       "      <td>0</td>\n",
       "      <td>0</td>\n",
       "      <td>0</td>\n",
       "      <td>0</td>\n",
       "      <td>2</td>\n",
       "      <td>0</td>\n",
       "      <td>...</td>\n",
       "      <td>4</td>\n",
       "      <td>0</td>\n",
       "      <td>0</td>\n",
       "      <td>0</td>\n",
       "      <td>0</td>\n",
       "      <td>0</td>\n",
       "      <td>0</td>\n",
       "      <td>0</td>\n",
       "      <td>0</td>\n",
       "      <td>0</td>\n",
       "    </tr>\n",
       "    <tr>\n",
       "      <th>3</th>\n",
       "      <td>CUST0000623317</td>\n",
       "      <td>0</td>\n",
       "      <td>0</td>\n",
       "      <td>0</td>\n",
       "      <td>0</td>\n",
       "      <td>0</td>\n",
       "      <td>0</td>\n",
       "      <td>0</td>\n",
       "      <td>0</td>\n",
       "      <td>0</td>\n",
       "      <td>...</td>\n",
       "      <td>0</td>\n",
       "      <td>0</td>\n",
       "      <td>0</td>\n",
       "      <td>0</td>\n",
       "      <td>0</td>\n",
       "      <td>0</td>\n",
       "      <td>0</td>\n",
       "      <td>0</td>\n",
       "      <td>0</td>\n",
       "      <td>0</td>\n",
       "    </tr>\n",
       "    <tr>\n",
       "      <th>4</th>\n",
       "      <td>CUST0000212278</td>\n",
       "      <td>0</td>\n",
       "      <td>0</td>\n",
       "      <td>0</td>\n",
       "      <td>0</td>\n",
       "      <td>0</td>\n",
       "      <td>0</td>\n",
       "      <td>0</td>\n",
       "      <td>0</td>\n",
       "      <td>0</td>\n",
       "      <td>...</td>\n",
       "      <td>0</td>\n",
       "      <td>0</td>\n",
       "      <td>0</td>\n",
       "      <td>0</td>\n",
       "      <td>0</td>\n",
       "      <td>0</td>\n",
       "      <td>0</td>\n",
       "      <td>0</td>\n",
       "      <td>0</td>\n",
       "      <td>0</td>\n",
       "    </tr>\n",
       "  </tbody>\n",
       "</table>\n",
       "<p>5 rows × 4979 columns</p>\n",
       "</div>"
      ],
      "text/plain": [
       "        CUST_CODE  PRD0900001  PRD0900002  PRD0900003  PRD0900004  PRD0900005  \\\n",
       "0  CUST0000515317           0           0           0           0           0   \n",
       "1  CUST0000370270           0           0           0           0           0   \n",
       "2  CUST0000409759           0           0           0           0           0   \n",
       "3  CUST0000623317           0           0           0           0           0   \n",
       "4  CUST0000212278           0           0           0           0           0   \n",
       "\n",
       "   PRD0900006  PRD0900007  PRD0900008  PRD0900009  ...  PRD0904988  \\\n",
       "0           0           0           0           0  ...           0   \n",
       "1           0           0          20           0  ...           0   \n",
       "2           0           0           2           0  ...           4   \n",
       "3           0           0           0           0  ...           0   \n",
       "4           0           0           0           0  ...           0   \n",
       "\n",
       "   PRD0904989  PRD0904990  PRD0904991  PRD0904992  PRD0904993  PRD0904994  \\\n",
       "0           0           0           0           0           0           0   \n",
       "1           0           0           0           0           0           0   \n",
       "2           0           0           0           0           0           0   \n",
       "3           0           0           0           0           0           0   \n",
       "4           0           0           0           0           0           0   \n",
       "\n",
       "   PRD0904995  PRD0904996  PRD0904997  \n",
       "0           0           0           0  \n",
       "1           0           0           0  \n",
       "2           0           0           0  \n",
       "3           0           0           0  \n",
       "4           0           0           0  \n",
       "\n",
       "[5 rows x 4979 columns]"
      ]
     },
     "execution_count": 12,
     "metadata": {},
     "output_type": "execute_result"
    }
   ],
   "source": [
    "Pivot_df = pd.read_csv('/data/Pivot_Customer_Product/Pivot_Customer_Product.csv')\n",
    "\n",
    "Pivot_df.head()"
   ]
  }
 ],
 "metadata": {
  "kernelspec": {
   "display_name": "Python 3",
   "language": "python",
   "name": "python3"
  },
  "language_info": {
   "codemirror_mode": {
    "name": "ipython",
    "version": 3
   },
   "file_extension": ".py",
   "mimetype": "text/x-python",
   "name": "python",
   "nbconvert_exporter": "python",
   "pygments_lexer": "ipython3",
   "version": "3.7.4"
  }
 },
 "nbformat": 4,
 "nbformat_minor": 2
}
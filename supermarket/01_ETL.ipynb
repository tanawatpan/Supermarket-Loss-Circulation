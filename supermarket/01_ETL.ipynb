{
 "cells": [
  {
   "cell_type": "markdown",
   "metadata": {},
   "source": [
    "## Load supermarket data into hdfs for later usage"
   ]
  },
  {
   "cell_type": "code",
   "execution_count": 6,
   "metadata": {},
   "outputs": [],
   "source": [
    "from pyspark.sql import SparkSession\n",
    "from pyspark.sql.types import *\n",
    "from pyspark import SparkConf"
   ]
  },
  {
   "cell_type": "code",
   "execution_count": 2,
   "metadata": {},
   "outputs": [],
   "source": [
    "SRC_FILE = 'supermarket_data.csv'"
   ]
  },
  {
   "cell_type": "code",
   "execution_count": 3,
   "metadata": {},
   "outputs": [
    {
     "name": "stdout",
     "output_type": "stream",
     "text": [
      "Found 3 items\r\n",
      "drwxrwxrwt   - hdfs hadoop          0 2020-06-28 08:01 /tmp/hadoop-yarn\r\n",
      "drwx-wx-wx   - hive hadoop          0 2020-06-28 08:02 /tmp/hive\r\n",
      "-rwxr-xr-x   1 root hadoop   48260395 2020-06-28 08:09 /tmp/supermarket_data.csv\r\n"
     ]
    }
   ],
   "source": [
    "!hdfs dfs -put \"/data/supermarket_data.csv\" \"/tmp\"\n",
    "!hdfs dfs -chmod 755 /tmp/supermarket_data.csv\n",
    "!hdfs dfs -ls /tmp"
   ]
  },
  {
   "cell_type": "code",
   "execution_count": 4,
   "metadata": {},
   "outputs": [],
   "source": [
    "spark = SparkSession \\\n",
    "        .builder \\\n",
    "        .appName(\"SuperMarket ETL\") \\\n",
    "        .enableHiveSupport() \\\n",
    "        .getOrCreate()\n",
    "\n",
    "sc = spark.sparkContext"
   ]
  },
  {
   "cell_type": "code",
   "execution_count": 7,
   "metadata": {},
   "outputs": [],
   "source": [
    "SuperMarket_Schema = StructType([\n",
    "    StructField('SHOP_DATE' , StringType()  , False),\n",
    "    StructField('SHOP_HOUR' , IntegerType() , False),\n",
    "    StructField('BASKET_ID' , LongType()    , False),\n",
    "    StructField('CUST_CODE' , StringType()  , False), \n",
    "    StructField('STORE_CODE', StringType()  , False),\n",
    "    StructField('PROD_CODE' , StringType()  , False),\n",
    "    StructField('QUANTITY'  , IntegerType() , False),\n",
    "    StructField('SPEND'     , DoubleType()  , False)\n",
    "])"
   ]
  },
  {
   "cell_type": "code",
   "execution_count": 8,
   "metadata": {},
   "outputs": [],
   "source": [
    "df = spark.read \\\n",
    "        .option(\"delimiter\", \",\") \\\n",
    "        .option(\"header\", \"true\") \\\n",
    "        .csv('/tmp/' + SRC_FILE, schema=SuperMarket_Schema)"
   ]
  },
  {
   "cell_type": "code",
   "execution_count": 9,
   "metadata": {},
   "outputs": [
    {
     "data": {
      "text/plain": [
       "DataFrame[]"
      ]
     },
     "execution_count": 9,
     "metadata": {},
     "output_type": "execute_result"
    }
   ],
   "source": [
    "# Create Temporary View\n",
    "df.createOrReplaceTempView(\"view_supermarket\")\n",
    "\n",
    "# Create Table\n",
    "\n",
    "spark.sql(\"\"\"\n",
    "CREATE TABLE default.supermarket STORED AS PARQUET AS\n",
    "SELECT *\n",
    "FROM view_supermarket\n",
    "\"\"\")"
   ]
  },
  {
   "cell_type": "code",
   "execution_count": 10,
   "metadata": {},
   "outputs": [
    {
     "name": "stdout",
     "output_type": "stream",
     "text": [
      "+---------+---------+---------------+--------------+----------+----------+--------+-----+\n",
      "|SHOP_DATE|SHOP_HOUR|      BASKET_ID|     CUST_CODE|STORE_CODE| PROD_CODE|QUANTITY|SPEND|\n",
      "+---------+---------+---------------+--------------+----------+----------+--------+-----+\n",
      "| 20070930|       14|994107700805249|CUST0000967892|STORE00003|PRD0904745|       1| 0.96|\n",
      "| 20080703|       21|994111700279338|CUST0000170099|STORE00004|PRD0903050|       1| 1.12|\n",
      "| 20080316|       12|994110100519787|CUST0000531407|STORE00003|PRD0902671|       3| 4.65|\n",
      "| 20070406|       10|994105200274911|CUST0000170099|STORE00004|PRD0900670|       1| 1.22|\n",
      "| 20070327|       11|994105100237909|CUST0000111155|STORE00003|PRD0904870|       1| 1.22|\n",
      "+---------+---------+---------------+--------------+----------+----------+--------+-----+\n",
      "\n"
     ]
    }
   ],
   "source": [
    "spark.sql(\"\"\"\n",
    "SELECT *\n",
    "FROM supermarket\n",
    "LIMIT 5\n",
    "\"\"\").show()"
   ]
  }
 ],
 "metadata": {
  "kernelspec": {
   "display_name": "Python 3",
   "language": "python",
   "name": "python3"
  },
  "language_info": {
   "codemirror_mode": {
    "name": "ipython",
    "version": 3
   },
   "file_extension": ".py",
   "mimetype": "text/x-python",
   "name": "python",
   "nbconvert_exporter": "python",
   "pygments_lexer": "ipython3",
   "version": "3.7.4"
  }
 },
 "nbformat": 4,
 "nbformat_minor": 2
}
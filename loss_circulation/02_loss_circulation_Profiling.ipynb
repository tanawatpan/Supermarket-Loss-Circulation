{
 "cells": [
  {
   "cell_type": "code",
   "execution_count": 18,
   "metadata": {},
   "outputs": [],
   "source": [
    "import seaborn as sns\n",
    "import pandas as pd"
   ]
  },
  {
   "cell_type": "code",
   "execution_count": 3,
   "metadata": {},
   "outputs": [
    {
     "data": {
      "text/html": [
       "<div>\n",
       "<style scoped>\n",
       "    .dataframe tbody tr th:only-of-type {\n",
       "        vertical-align: middle;\n",
       "    }\n",
       "\n",
       "    .dataframe tbody tr th {\n",
       "        vertical-align: top;\n",
       "    }\n",
       "\n",
       "    .dataframe thead th {\n",
       "        text-align: right;\n",
       "    }\n",
       "</style>\n",
       "<table border=\"1\" class=\"dataframe\">\n",
       "  <thead>\n",
       "    <tr style=\"text-align: right;\">\n",
       "      <th></th>\n",
       "      <th>DM_EVENT.date_ops_start</th>\n",
       "      <th>DM_ACTIVITY.activity_code</th>\n",
       "      <th>DM_ACTIVITY.activity_memo</th>\n",
       "      <th>LOSS_CIRCULATION</th>\n",
       "    </tr>\n",
       "  </thead>\n",
       "  <tbody>\n",
       "    <tr>\n",
       "      <th>0</th>\n",
       "      <td>9/1/2014</td>\n",
       "      <td>C2</td>\n",
       "      <td>drop top plug. cmt unit displace with 20 bbls ...</td>\n",
       "      <td>0.0</td>\n",
       "    </tr>\n",
       "    <tr>\n",
       "      <th>1</th>\n",
       "      <td>9/1/2014</td>\n",
       "      <td>C2</td>\n",
       "      <td>drop bottom plug. mix and pump 28 m3 of 1.90 s...</td>\n",
       "      <td>6.2</td>\n",
       "    </tr>\n",
       "    <tr>\n",
       "      <th>2</th>\n",
       "      <td>9/1/2014</td>\n",
       "      <td>C2</td>\n",
       "      <td>drop top plug. cement unit displace cement wit...</td>\n",
       "      <td>0.0</td>\n",
       "    </tr>\n",
       "    <tr>\n",
       "      <th>3</th>\n",
       "      <td>9/1/2014</td>\n",
       "      <td>C2</td>\n",
       "      <td>rig pump 1.59 m3 of base oil ahead and 1.78 sg...</td>\n",
       "      <td>5.0</td>\n",
       "    </tr>\n",
       "    <tr>\n",
       "      <th>4</th>\n",
       "      <td>9/1/2014</td>\n",
       "      <td>F1</td>\n",
       "      <td>cont drilling 6-1/8\" hole from 3121 m to 3130 ...</td>\n",
       "      <td>0.0</td>\n",
       "    </tr>\n",
       "  </tbody>\n",
       "</table>\n",
       "</div>"
      ],
      "text/plain": [
       "  DM_EVENT.date_ops_start DM_ACTIVITY.activity_code  \\\n",
       "0                9/1/2014                        C2   \n",
       "1                9/1/2014                        C2   \n",
       "2                9/1/2014                        C2   \n",
       "3                9/1/2014                        C2   \n",
       "4                9/1/2014                        F1   \n",
       "\n",
       "                           DM_ACTIVITY.activity_memo  LOSS_CIRCULATION  \n",
       "0  drop top plug. cmt unit displace with 20 bbls ...               0.0  \n",
       "1  drop bottom plug. mix and pump 28 m3 of 1.90 s...               6.2  \n",
       "2  drop top plug. cement unit displace cement wit...               0.0  \n",
       "3  rig pump 1.59 m3 of base oil ahead and 1.78 sg...               5.0  \n",
       "4  cont drilling 6-1/8\" hole from 3121 m to 3130 ...               0.0  "
      ]
     },
     "execution_count": 3,
     "metadata": {},
     "output_type": "execute_result"
    }
   ],
   "source": [
    "df = pd.read_csv(\"/data/loss-circulation-transformed.csv\")\n",
    "df.head()"
   ]
  },
  {
   "cell_type": "markdown",
   "metadata": {},
   "source": [
    "##  Top 3 activity codes from which loss circulation occurs"
   ]
  },
  {
   "cell_type": "code",
   "execution_count": 35,
   "metadata": {},
   "outputs": [
    {
     "data": {
      "text/html": [
       "<div>\n",
       "<style scoped>\n",
       "    .dataframe tbody tr th:only-of-type {\n",
       "        vertical-align: middle;\n",
       "    }\n",
       "\n",
       "    .dataframe tbody tr th {\n",
       "        vertical-align: top;\n",
       "    }\n",
       "\n",
       "    .dataframe thead th {\n",
       "        text-align: right;\n",
       "    }\n",
       "</style>\n",
       "<table border=\"1\" class=\"dataframe\">\n",
       "  <thead>\n",
       "    <tr style=\"text-align: right;\">\n",
       "      <th></th>\n",
       "      <th>LOSS_CIRCULATION</th>\n",
       "    </tr>\n",
       "    <tr>\n",
       "      <th>DM_ACTIVITY.activity_code</th>\n",
       "      <th></th>\n",
       "    </tr>\n",
       "  </thead>\n",
       "  <tbody>\n",
       "    <tr>\n",
       "      <th>C2</th>\n",
       "      <td>484.334694</td>\n",
       "    </tr>\n",
       "    <tr>\n",
       "      <th>C1</th>\n",
       "      <td>294.948196</td>\n",
       "    </tr>\n",
       "    <tr>\n",
       "      <th>B2</th>\n",
       "      <td>258.513350</td>\n",
       "    </tr>\n",
       "  </tbody>\n",
       "</table>\n",
       "</div>"
      ],
      "text/plain": [
       "                           LOSS_CIRCULATION\n",
       "DM_ACTIVITY.activity_code                  \n",
       "C2                               484.334694\n",
       "C1                               294.948196\n",
       "B2                               258.513350"
      ]
     },
     "execution_count": 35,
     "metadata": {},
     "output_type": "execute_result"
    }
   ],
   "source": [
    "df.groupby(['DM_ACTIVITY.activity_code']).sum().sort_values(by=['LOSS_CIRCULATION'], ascending=False).head(3)"
   ]
  },
  {
   "cell_type": "code",
   "execution_count": 4,
   "metadata": {},
   "outputs": [],
   "source": [
    "loss = df[\"LOSS_CIRCULATION\"].copy()"
   ]
  },
  {
   "cell_type": "code",
   "execution_count": 16,
   "metadata": {},
   "outputs": [
    {
     "name": "stdout",
     "output_type": "stream",
     "text": [
      "Maximum loss circulation : 104.6136434\n",
      "Minimum loss circulation : 0.0\n",
      "Average loss circulation : 1.3572602445430284\n",
      "Variance loss circulation : 41.416507639124475\n"
     ]
    }
   ],
   "source": [
    "MAX = loss.max()\n",
    "MIN = loss.min()\n",
    "AVG = loss.mean()\n",
    "VAR = loss.var()\n",
    "\n",
    "print(\"Maximum loss circulation : \" + str(MAX) )\n",
    "print(\"Minimum loss circulation : \" + str(MIN) )\n",
    "print(\"Average loss circulation : \" + str(AVG) )\n",
    "print(\"Variance loss circulation : \" + str(VAR) )"
   ]
  },
  {
   "cell_type": "markdown",
   "metadata": {},
   "source": [
    "## A distribution that is skewed right, because there are a lot of zero. "
   ]
  },
  {
   "cell_type": "code",
   "execution_count": 30,
   "metadata": {},
   "outputs": [
    {
     "data": {
      "image/png": "[encoded data removed]",
      "text/plain": [
       "<Figure size 432x288 with 1 Axes>"
      ]
     },
     "metadata": {
      "needs_background": "light"
     },
     "output_type": "display_data"
    }
   ],
   "source": [
    "sns.distplot(loss);"
   ]
  },
  {
   "cell_type": "code",
   "execution_count": 28,
   "metadata": {},
   "outputs": [
    {
     "data": {
      "text/plain": [
       "<matplotlib.axes._subplots.AxesSubplot at 0x7f97e4ad2b90>"
      ]
     },
     "execution_count": 28,
     "metadata": {},
     "output_type": "execute_result"
    },
    {
     "data": {
      "image/png": "[encoded data removed]",
      "text/plain": [
       "<Figure size 432x288 with 1 Axes>"
      ]
     },
     "metadata": {
      "needs_background": "light"
     },
     "output_type": "display_data"
    }
   ],
   "source": [
    "sns.boxplot( x = loss )"
   ]
  },
  {
   "cell_type": "code",
   "execution_count": 27,
   "metadata": {},
   "outputs": [
    {
     "data": {
      "text/plain": [
       "<matplotlib.axes._subplots.AxesSubplot at 0x7f97e4ad1450>"
      ]
     },
     "execution_count": 27,
     "metadata": {},
     "output_type": "execute_result"
    },
    {
     "data": {
      "image/png": "[encoded data removed]",
      "text/plain": [
       "<Figure size 432x288 with 1 Axes>"
      ]
     },
     "metadata": {
      "needs_background": "light"
     },
     "output_type": "display_data"
    }
   ],
   "source": [
    "# Case loss circulation > 0\n",
    "sns.boxplot( x = df[ df[\"LOSS_CIRCULATION\"] > 0 ][\"LOSS_CIRCULATION\"] )"
   ]
  }
 ],
 "metadata": {
  "kernelspec": {
   "display_name": "Python 3",
   "language": "python",
   "name": "python3"
  },
  "language_info": {
   "codemirror_mode": {
    "name": "ipython",
    "version": 3
   },
   "file_extension": ".py",
   "mimetype": "text/x-python",
   "name": "python",
   "nbconvert_exporter": "python",
   "pygments_lexer": "ipython3",
   "version": "3.7.4"
  }
 },
 "nbformat": 4,
 "nbformat_minor": 2
}